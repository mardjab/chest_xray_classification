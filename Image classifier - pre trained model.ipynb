{
 "cells": [
  {
   "cell_type": "markdown",
   "id": "1da625a9",
   "metadata": {},
   "source": [
    "# Classifying pulmonary diseases using chest X rays - pre trained model"
   ]
  },
  {
   "cell_type": "markdown",
   "id": "775e0e36",
   "metadata": {},
   "source": [
    "<b>Contact info</b>\n",
    "<br>\n",
    "<b>Name:</b> Mardja Bueno, Ph.D.\n",
    "<br>\n",
    "<b>email:</b> mardja.bueno@gmail.com\n",
    "<br>"
   ]
  },
  {
   "cell_type": "code",
   "execution_count": 1,
   "id": "1c72185e",
   "metadata": {},
   "outputs": [],
   "source": [
    "# import libraries\n",
    "import numpy as np\n",
    "import pandas as pd\n",
    "import seaborn as sns\n",
    "import matplotlib.pyplot as plt\n",
    " \n",
    "from sklearn.metrics import classification_report, confusion_matrix\n",
    "\n",
    "import tensorflow as tf\n",
    "import keras\n",
    "from keras.preprocessing.image import ImageDataGenerator\n",
    "from tensorflow.keras import applications\n",
    "from keras.models import Sequential, load_model\n",
    "from keras.layers import Conv2D, MaxPooling2D, GlobalAveragePooling2D, Flatten, Dense, Dropout\n",
    "from keras.preprocessing import image\n",
    " \n",
    "import warnings\n",
    "warnings.filterwarnings('ignore')"
   ]
  },
  {
   "cell_type": "code",
   "execution_count": 11,
   "id": "ed67fc9a",
   "metadata": {},
   "outputs": [],
   "source": [
    "# folders paths\n",
    "train_path = 'Chest X ray images/train/'"
   ]
  },
  {
   "cell_type": "code",
   "execution_count": 13,
   "id": "de830815",
   "metadata": {},
   "outputs": [
    {
     "name": "stdout",
     "output_type": "stream",
     "text": [
      "Found 5061 images belonging to 4 classes.\n",
      "Found 1265 images belonging to 4 classes.\n"
     ]
    }
   ],
   "source": [
    "# use tensorflow for the data augmentation and preprocessing\n",
    "# split data into 80% training and 20% validation\n",
    "gen = ImageDataGenerator(\n",
    "                  rescale=1./255.,\n",
    "                  horizontal_flip = True,\n",
    "                  validation_split=0.2 \n",
    "                 )\n",
    " \n",
    "train_generator = gen.flow_from_directory(\n",
    "    directory = train_path, \n",
    "    subset=\"training\",\n",
    "    color_mode=\"rgb\",\n",
    "    target_size = (331,331), \n",
    "    class_mode=\"categorical\",\n",
    "    batch_size=32,\n",
    "    shuffle=True,\n",
    "    seed=42,\n",
    ")\n",
    " \n",
    "validation_generator = gen.flow_from_directory(\n",
    "    directory = train_path, \n",
    "    subset=\"validation\",\n",
    "    color_mode=\"rgb\",\n",
    "    target_size = (331,331),\n",
    "    class_mode=\"categorical\",\n",
    "    batch_size=32,\n",
    "    shuffle=True,\n",
    "    seed=42,\n",
    ")"
   ]
  },
  {
   "cell_type": "code",
   "execution_count": 4,
   "id": "41cf85af",
   "metadata": {},
   "outputs": [],
   "source": [
    "# load the InceptionResNetV2 architecture\n",
    "base_model = tf.keras.applications.InceptionResNetV2(\n",
    "                     include_top=False,\n",
    "                     weights='imagenet',\n",
    "                     input_shape=(331,331,3)\n",
    "                     )\n",
    "\n",
    "# freeze the layer = its internal state will not change during training and weights will not be updated when fitting\n",
    "base_model.trainable=False\n",
    " \n",
    "model = tf.keras.Sequential([\n",
    "        base_model,  \n",
    "        tf.keras.layers.BatchNormalization(renorm=True),\n",
    "        tf.keras.layers.GlobalAveragePooling2D(),\n",
    "        tf.keras.layers.Dense(512, activation='relu'),\n",
    "        tf.keras.layers.Dense(256, activation='relu'),\n",
    "        tf.keras.layers.Dropout(0.5),\n",
    "        tf.keras.layers.Dense(128, activation='relu'),\n",
    "        tf.keras.layers.Dense(4, activation='softmax') # for the 4 classes present\n",
    "    ])"
   ]
  },
  {
   "cell_type": "code",
   "execution_count": 5,
   "id": "f401aecb",
   "metadata": {},
   "outputs": [],
   "source": [
    "# categorical cross entropy = used as a loss function for multi-class classification problems\n",
    "model.compile(optimizer='Adam',loss='categorical_crossentropy',metrics=['accuracy'])"
   ]
  },
  {
   "cell_type": "code",
   "execution_count": 6,
   "id": "eb0e02f6",
   "metadata": {},
   "outputs": [
    {
     "name": "stdout",
     "output_type": "stream",
     "text": [
      "Model: \"sequential\"\n",
      "_________________________________________________________________\n",
      " Layer (type)                Output Shape              Param #   \n",
      "=================================================================\n",
      " inception_resnet_v2 (Functi  (None, 9, 9, 1536)       54336736  \n",
      " onal)                                                           \n",
      "                                                                 \n",
      " batch_normalization_203 (Ba  (None, 9, 9, 1536)       10752     \n",
      " tchNormalization)                                               \n",
      "                                                                 \n",
      " global_average_pooling2d (G  (None, 1536)             0         \n",
      " lobalAveragePooling2D)                                          \n",
      "                                                                 \n",
      " dense (Dense)               (None, 512)               786944    \n",
      "                                                                 \n",
      " dense_1 (Dense)             (None, 256)               131328    \n",
      "                                                                 \n",
      " dropout (Dropout)           (None, 256)               0         \n",
      "                                                                 \n",
      " dense_2 (Dense)             (None, 128)               32896     \n",
      "                                                                 \n",
      " dense_3 (Dense)             (None, 4)                 516       \n",
      "                                                                 \n",
      "=================================================================\n",
      "Total params: 55,299,172\n",
      "Trainable params: 954,756\n",
      "Non-trainable params: 54,344,416\n",
      "_________________________________________________________________\n"
     ]
    }
   ],
   "source": [
    "# get summary of the model\n",
    "model.summary()"
   ]
  },
  {
   "cell_type": "code",
   "execution_count": 7,
   "id": "d608e084",
   "metadata": {},
   "outputs": [],
   "source": [
    "# set early stopping call back\n",
    "early = tf.keras.callbacks.EarlyStopping( patience=10,\n",
    "                                          min_delta=0.001,\n",
    "                                          restore_best_weights=True)\n"
   ]
  },
  {
   "cell_type": "code",
   "execution_count": 8,
   "id": "1d8572a2",
   "metadata": {},
   "outputs": [
    {
     "name": "stdout",
     "output_type": "stream",
     "text": [
      "Epoch 1/15\n",
      "158/158 [==============================] - 2134s 13s/step - loss: 0.3965 - accuracy: 0.8505 - val_loss: 0.1641 - val_accuracy: 0.9351\n",
      "Epoch 2/15\n",
      "158/158 [==============================] - 1876s 12s/step - loss: 0.1834 - accuracy: 0.9417 - val_loss: 0.1642 - val_accuracy: 0.9519\n",
      "Epoch 3/15\n",
      "158/158 [==============================] - 1730s 11s/step - loss: 0.1261 - accuracy: 0.9565 - val_loss: 0.1229 - val_accuracy: 0.9615\n",
      "Epoch 4/15\n",
      "158/158 [==============================] - 1739s 11s/step - loss: 0.1000 - accuracy: 0.9658 - val_loss: 0.1066 - val_accuracy: 0.9655\n",
      "Epoch 5/15\n",
      "158/158 [==============================] - 1818s 12s/step - loss: 0.0707 - accuracy: 0.9743 - val_loss: 0.1190 - val_accuracy: 0.9655\n",
      "Epoch 6/15\n",
      "158/158 [==============================] - 1920s 12s/step - loss: 0.0651 - accuracy: 0.9763 - val_loss: 0.1336 - val_accuracy: 0.9615\n",
      "Epoch 7/15\n",
      "158/158 [==============================] - 1699s 11s/step - loss: 0.0659 - accuracy: 0.9777 - val_loss: 0.1540 - val_accuracy: 0.9631\n",
      "Epoch 8/15\n",
      "158/158 [==============================] - 1766s 11s/step - loss: 0.0667 - accuracy: 0.9811 - val_loss: 0.1273 - val_accuracy: 0.9647\n",
      "Epoch 9/15\n",
      "158/158 [==============================] - 2291s 14s/step - loss: 0.0381 - accuracy: 0.9873 - val_loss: 0.1562 - val_accuracy: 0.9631\n",
      "Epoch 10/15\n",
      "158/158 [==============================] - 1912s 12s/step - loss: 0.0332 - accuracy: 0.9867 - val_loss: 0.1809 - val_accuracy: 0.9535\n",
      "Epoch 11/15\n",
      "158/158 [==============================] - 1690s 11s/step - loss: 0.0432 - accuracy: 0.9867 - val_loss: 0.1817 - val_accuracy: 0.9607\n",
      "Epoch 12/15\n",
      "158/158 [==============================] - 1699s 11s/step - loss: 0.0432 - accuracy: 0.9853 - val_loss: 0.1353 - val_accuracy: 0.9696\n",
      "Epoch 13/15\n",
      "158/158 [==============================] - 1696s 11s/step - loss: 0.0252 - accuracy: 0.9905 - val_loss: 0.1422 - val_accuracy: 0.9696\n",
      "Epoch 14/15\n",
      "158/158 [==============================] - 1697s 11s/step - loss: 0.0278 - accuracy: 0.9895 - val_loss: 0.1595 - val_accuracy: 0.9696\n"
     ]
    }
   ],
   "source": [
    "batch_size=32\n",
    "\n",
    "# hyperparameters\n",
    "STEP_SIZE_TRAIN = train_generator.n//train_generator.batch_size\n",
    "STEP_SIZE_VALID = validation_generator.n//validation_generator.batch_size\n",
    " \n",
    "# fit model\n",
    "history = model.fit(train_generator,\n",
    "                    steps_per_epoch=STEP_SIZE_TRAIN,\n",
    "                    validation_data=validation_generator,\n",
    "                    validation_steps=STEP_SIZE_VALID,\n",
    "                    epochs=15,\n",
    "                    callbacks=[early])"
   ]
  },
  {
   "cell_type": "code",
   "execution_count": 14,
   "id": "142045d5",
   "metadata": {
    "scrolled": true
   },
   "outputs": [
    {
     "name": "stdout",
     "output_type": "stream",
     "text": [
      "39/39 [==============================] - 340s 9s/step - loss: 0.1059 - accuracy: 0.9615\n"
     ]
    },
    {
     "data": {
      "text/plain": [
       "[0.10590669512748718, 0.9615384340286255]"
      ]
     },
     "execution_count": 14,
     "metadata": {},
     "output_type": "execute_result"
    }
   ],
   "source": [
    "# evaluate the model\n",
    "model.evaluate(validation_generator,steps = STEP_SIZE_VALID)"
   ]
  },
  {
   "cell_type": "code",
   "execution_count": 15,
   "id": "0dda5d10",
   "metadata": {},
   "outputs": [
    {
     "data": {
      "image/png": "[encoded data removed]",
      "text/plain": [
       "<Figure size 576x576 with 2 Axes>"
      ]
     },
     "metadata": {
      "needs_background": "light"
     },
     "output_type": "display_data"
    }
   ],
   "source": [
    "# plot learning curves\n",
    "acc = history.history['accuracy']\n",
    "val_acc = history.history['val_accuracy']\n",
    "\n",
    "loss = history.history['loss']\n",
    "val_loss = history.history['val_loss']\n",
    "\n",
    "plt.figure(figsize=(8, 8))\n",
    "plt.subplot(2, 1, 1)\n",
    "plt.plot(acc, label='Training Accuracy')\n",
    "plt.plot(val_acc, label='Validation Accuracy')\n",
    "plt.legend(loc='lower right')\n",
    "plt.ylabel('Accuracy')\n",
    "plt.ylim([min(plt.ylim()),1])\n",
    "plt.title('Training and Validation Accuracy')\n",
    "\n",
    "plt.subplot(2, 1, 2)\n",
    "plt.plot(loss, label='Training Loss')\n",
    "plt.plot(val_loss, label='Validation Loss')\n",
    "plt.legend(loc='upper right')\n",
    "plt.ylabel('Cross Entropy')\n",
    "plt.ylim([0,1.0])\n",
    "plt.title('Training and Validation Loss')\n",
    "plt.xlabel('epoch')\n",
    "plt.show()"
   ]
  },
  {
   "cell_type": "code",
   "execution_count": 16,
   "id": "53a7bab3",
   "metadata": {},
   "outputs": [],
   "source": [
    "# save the model\n",
    "model.save(\"ChestXrayModelPreTrained.h5\")"
   ]
  }
 ],
 "metadata": {
  "kernelspec": {
   "display_name": "Python 3",
   "language": "python",
   "name": "python3"
  },
  "language_info": {
   "codemirror_mode": {
    "name": "ipython",
    "version": 3
   },
   "file_extension": ".py",
   "mimetype": "text/x-python",
   "name": "python",
   "nbconvert_exporter": "python",
   "pygments_lexer": "ipython3",
   "version": "3.8.8"
  }
 },
 "nbformat": 4,
 "nbformat_minor": 5
}
