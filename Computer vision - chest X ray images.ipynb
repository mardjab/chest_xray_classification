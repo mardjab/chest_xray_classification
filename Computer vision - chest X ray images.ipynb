{
 "cells": [
  {
   "cell_type": "markdown",
   "id": "c91479d6",
   "metadata": {},
   "source": [
    "# Classifying pulmonary diseases with chest X-ray images"
   ]
  },
  {
   "cell_type": "markdown",
   "id": "592491a5",
   "metadata": {},
   "source": [
    "<b>Contact info</b>\n",
    "<br>\n",
    "<b>Name:</b> Mardja Bueno, Ph.D.\n",
    "<br>\n",
    "<b>email:</b> mardja.bueno@gmail.com\n",
    "<br>"
   ]
  },
  {
   "cell_type": "markdown",
   "id": "3595cc92",
   "metadata": {},
   "source": [
    "## 1. Overview and goals"
   ]
  },
  {
   "cell_type": "markdown",
   "id": "90c07791",
   "metadata": {},
   "source": [
    "## 2. The dataset"
   ]
  },
  {
   "cell_type": "code",
   "execution_count": 1,
   "id": "d7cf1482",
   "metadata": {},
   "outputs": [],
   "source": [
    "# import libraries\n",
    "import pandas as pd\n",
    "import numpy as np\n",
    "import matplotlib.pyplot as plt\n",
    "import seaborn as sns\n",
    "sns.set()\n",
    "from PIL import Image\n",
    "from pathlib import Path\n",
    "import os"
   ]
  },
  {
   "cell_type": "code",
   "execution_count": 2,
   "id": "149d12aa",
   "metadata": {},
   "outputs": [
    {
     "name": "stdout",
     "output_type": "stream",
     "text": [
      "Number of images in the training dataset :  6326\n",
      "Number of images in the testing dataset :  771\n",
      "Number of images in the validation dataset :  38\n"
     ]
    }
   ],
   "source": [
    "# create path for the folders where the training, test and validation images are\n",
    "train_folders = 'Chest X ray images/train/' \n",
    "test_folders = 'Chest X ray images/test/'\n",
    "val_folders = 'Chest X ray images/val/'\n",
    "\n",
    "# create empty lists for train, test and val\n",
    "total_train = {}\n",
    "total_test = {}\n",
    "total_val = {}\n",
    "\n",
    "# iterate through the length of the list\n",
    "for folder in os.listdir(train_folders):\n",
    "    if not folder.startswith('.'): # so it doesn't open the .DS Store folder on Mac\n",
    "        total_train[folder] = len(os.listdir(train_folders + folder))\n",
    "    \n",
    "for folder in os.listdir(test_folders):\n",
    "    if not folder.startswith('.'):\n",
    "        total_test[folder] = len(os.listdir(test_folders + folder))\n",
    "    \n",
    "for folder in os.listdir(val_folders):\n",
    "    if not folder.startswith('.'):\n",
    "        total_val[folder] = len(os.listdir(val_folders + folder))\n",
    "\n",
    "# sum the number of images in each list\n",
    "quantity_train = pd.DataFrame(list(total_train.items()), index = range(0,len(total_train)), columns = ['class','count'])\n",
    "quantity_test = pd.DataFrame(list(total_test.items()), index = range(0,len(total_test)), columns = ['class','count'])\n",
    "quantity_val = pd.DataFrame(list(total_val.items()), index = range(0,len(total_val)), columns = ['class','count'])\n",
    "\n",
    "# print how many images we have in each dataset\n",
    "print(\"Number of images in the training dataset : \", sum(total_train.values()))\n",
    "print(\"Number of images in the testing dataset : \",sum(total_test.values()))\n",
    "print(\"Number of images in the validation dataset : \",sum(total_val.values()))"
   ]
  },
  {
   "cell_type": "markdown",
   "id": "c9fca197",
   "metadata": {},
   "source": [
    "The dataset is organized into 3 folders (train, test, val) and contains subfolders for each image category (Normal/Pneumonia/Covid-19/Tuberculosis). A total of 7135 x-ray images are present."
   ]
  },
  {
   "cell_type": "markdown",
   "id": "dbe92d4b",
   "metadata": {},
   "source": [
    "## 3. Exploratory data analysis"
   ]
  },
  {
   "cell_type": "code",
   "execution_count": 20,
   "id": "9c607203",
   "metadata": {},
   "outputs": [
    {
     "data": {
      "image/png": "[encoded data removed]",
      "text/plain": [
       "<Figure size 1080x576 with 2 Axes>"
      ]
     },
     "metadata": {
      "needs_background": "light"
     },
     "output_type": "display_data"
    }
   ],
   "source": [
    "# create bar plots with the number of training and testing\n",
    "# images in each folder per pulmonary disease\n",
    "figure, ax = plt.subplots(1,2, figsize = (15,8))\n",
    "\n",
    "sns.set_palette(\"Set2\")\n",
    "\n",
    "sns.barplot(x = 'class',y = 'count',data = quantity_train,ax = ax[0])\n",
    "sns.barplot(x = 'class',y = 'count',data = quantity_test,ax = ax[1])\n",
    "\n",
    "\n",
    "# set titles and labels\n",
    "ax[0].set_title('Number of training images per pulmonary disease')\n",
    "ax[0].set(xlabel = 'Pulmonary disease', ylabel = 'Number of images')\n",
    "\n",
    "ax[1].set_title('Number of testing images per pulmonary disease')\n",
    "ax[1].set(xlabel = 'Pulmonary disease', ylabel = 'Number of images')\n",
    "\n",
    "plt.show()"
   ]
  },
  {
   "cell_type": "markdown",
   "id": "97317844",
   "metadata": {},
   "source": [
    "## 4. Data preprocessing"
   ]
  },
  {
   "cell_type": "code",
   "execution_count": null,
   "id": "00f0583f",
   "metadata": {},
   "outputs": [],
   "source": [
    "# make sure all images are the same size"
   ]
  },
  {
   "cell_type": "code",
   "execution_count": null,
   "id": "39282b82",
   "metadata": {},
   "outputs": [],
   "source": [
    "# correct background"
   ]
  },
  {
   "cell_type": "code",
   "execution_count": null,
   "id": "27b091dc",
   "metadata": {},
   "outputs": [],
   "source": []
  },
  {
   "cell_type": "code",
   "execution_count": null,
   "id": "8fb5aa10",
   "metadata": {},
   "outputs": [],
   "source": []
  },
  {
   "cell_type": "markdown",
   "id": "0aac51da",
   "metadata": {},
   "source": [
    "## 5. Model building"
   ]
  },
  {
   "cell_type": "code",
   "execution_count": null,
   "id": "814ebba8",
   "metadata": {},
   "outputs": [],
   "source": []
  },
  {
   "cell_type": "code",
   "execution_count": null,
   "id": "07b59520",
   "metadata": {},
   "outputs": [],
   "source": []
  },
  {
   "cell_type": "markdown",
   "id": "92dccd29",
   "metadata": {},
   "source": [
    "## References"
   ]
  },
  {
   "cell_type": "code",
   "execution_count": null,
   "id": "5f72a1b9",
   "metadata": {},
   "outputs": [],
   "source": []
  },
  {
   "cell_type": "code",
   "execution_count": null,
   "id": "648d4fd3",
   "metadata": {},
   "outputs": [],
   "source": []
  },
  {
   "cell_type": "code",
   "execution_count": null,
   "id": "f3931b4a",
   "metadata": {},
   "outputs": [],
   "source": []
  },
  {
   "cell_type": "code",
   "execution_count": null,
   "id": "c0d4d42f",
   "metadata": {},
   "outputs": [],
   "source": []
  },
  {
   "cell_type": "code",
   "execution_count": null,
   "id": "3777576c",
   "metadata": {},
   "outputs": [],
   "source": []
  }
 ],
 "metadata": {
  "kernelspec": {
   "display_name": "Python 3",
   "language": "python",
   "name": "python3"
  },
  "language_info": {
   "codemirror_mode": {
    "name": "ipython",
    "version": 3
   },
   "file_extension": ".py",
   "mimetype": "text/x-python",
   "name": "python",
   "nbconvert_exporter": "python",
   "pygments_lexer": "ipython3",
   "version": "3.8.8"
  }
 },
 "nbformat": 4,
 "nbformat_minor": 5
}
